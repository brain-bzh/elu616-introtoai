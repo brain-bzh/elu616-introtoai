{
 "cells": [
  {
   "cell_type": "markdown",
   "metadata": {},
   "source": [
    "Introduction to Artificial Intelligence - Lab Session 0 - April 4th 2018 \n",
    "--\n",
    "\n",
    "At the end of this session, you will be able to : \n",
    "- Create and manage the Jupyter Notebooks environment to run code, insert text and math equations\n",
    "- Perform basic matrix manipulations using Numpy \n",
    "- Create signals and perform basic scientific computing using Scipy and Numpy\n",
    "- Produce simple data visulisation using Matplotlib \n",
    "- Open, manipulate and visualize the PyRat datasets used in the course "
   ]
  },
  {
   "cell_type": "markdown",
   "metadata": {},
   "source": [
    "Part 1 - Intro to Jupyter Notebook\n",
    "--\n",
    "Here, we will only cover the basics. You can find here a [more thorough tutorial](ici).\n",
    "\n",
    "Jupyter Notebook is based on the .ipynb format (iPython Notebook), and is essentially a way to do rapid prototyping / demonstrations of scientific python. The basic idea is to define *cells*. \n",
    "Cellss can be of several types, including python code, or rich text (using [markdown formatting](link to md)).\n",
    "\n",
    "When a code cell is evaluated (i.e. the python code will be executed), the output of this evaluation will show up right below the cell. \n",
    "\n",
    "When a text cell is evaluated, the text will be formatted. \n",
    "\n",
    "You can now do the \"User Interface Tour\" from the Help menu. "
   ]
  },
  {
   "cell_type": "markdown",
   "metadata": {},
   "source": [
    "Done ? \n",
    "\n",
    "When working with Jupyter Notebook, you will essentially switch between two modes : \n",
    "- The Edit mode in which you edit the content of the cells \n",
    "- The Command mode, that enables you to change the cell types. \n",
    "\n",
    "When in Command mode, you can select cells. If you select a single cell, you can edit it by simply pressing enter, or double clicking on it. "
   ]
  },
  {
   "cell_type": "markdown",
   "metadata": {},
   "source": [
    "For example, try editing THIS CELL and change its content. "
   ]
  },
  {
   "cell_type": "markdown",
   "metadata": {},
   "source": [
    "Now, edit the cell below, change the code, and when you're done, press Shift+Enter to evalute the code. "
   ]
  },
  {
   "cell_type": "code",
   "execution_count": 1,
   "metadata": {},
   "outputs": [
    {
     "name": "stdout",
     "output_type": "stream",
     "text": [
      "3222222 + 6444444\n"
     ]
    }
   ],
   "source": [
    "### CELL TO BE EDITED\n",
    "\n",
    "\n",
    "a=32\n",
    "b= 2*a\n",
    "print(\"%d + %d\"%(a,b))"
   ]
  },
  {
   "cell_type": "markdown",
   "metadata": {},
   "source": [
    "Text cells can contain math expressions that use the Markdown formatting, in which you can use LaTEx expressions for maths (enclosed between two dollar signs). \n",
    "\n",
    "For example : $A(k) \\triangleq \\sum_{\\mathbf{n} =1}^{k}{n^2}$\n",
    "\n",
    "Now : \n",
    "- Edit the current cell to show the code that displays the math expression,\n",
    "- Create a code cell below that defines a function that calculates $A(k)$ given k, and evaluate this cell,\n",
    "- Create another cell and use the function to display $A(k)$ for a few values of $\\mathbf{k}$ (eg 10 and 20)."
   ]
  },
  {
   "cell_type": "code",
   "execution_count": null,
   "metadata": {
    "collapsed": true
   },
   "outputs": [],
   "source": [
    "### CELL TO BE COMPLETED "
   ]
  },
  {
   "cell_type": "code",
   "execution_count": null,
   "metadata": {},
   "outputs": [],
   "source": [
    "### CELL TO BE COMPLETED "
   ]
  },
  {
   "cell_type": "markdown",
   "metadata": {},
   "source": [
    "Note that using Jupyter Notebook, if you evaluate a cell with a function followed by a \"?\" sign, the help of the function will pop up. \n",
    "\n",
    "Example : "
   ]
  },
  {
   "cell_type": "code",
   "execution_count": null,
   "metadata": {
    "collapsed": true
   },
   "outputs": [],
   "source": [
    "import os\n",
    "\n",
    "os.listdir?"
   ]
  },
  {
   "cell_type": "markdown",
   "metadata": {},
   "source": [
    "You can also display the code of a function using the syntax \"??\" "
   ]
  },
  {
   "cell_type": "code",
   "execution_count": null,
   "metadata": {},
   "outputs": [],
   "source": [
    "A??"
   ]
  },
  {
   "cell_type": "markdown",
   "metadata": {},
   "source": [
    "The popup can be closed by pressing the Escape key. \n",
    "\n",
    "Use the listdir function to browse the content of some directories... \n"
   ]
  },
  {
   "cell_type": "code",
   "execution_count": null,
   "metadata": {},
   "outputs": [],
   "source": [
    "### CELL TO BE COMPLETED "
   ]
  },
  {
   "cell_type": "markdown",
   "metadata": {},
   "source": [
    "Part 2 - Introduction to Numpy, Scipy and Matplotlib \n",
    "--"
   ]
  },
  {
   "cell_type": "markdown",
   "metadata": {},
   "source": [
    "A code cell can contain any python code, including imports. Let's start by importing the Numpy package. "
   ]
  },
  {
   "cell_type": "code",
   "execution_count": null,
   "metadata": {
    "collapsed": true
   },
   "outputs": [],
   "source": [
    "import numpy as np"
   ]
  },
  {
   "cell_type": "markdown",
   "metadata": {},
   "source": [
    "Numpy can be used to generate pseudo-random values from various distributions. In particular, a very useful distribution is the standard normal (zero mean and unit variance). Let's generate two vectors sampled from the normal distribution, using a length parameter that we'll be able to change if needed. "
   ]
  },
  {
   "cell_type": "code",
   "execution_count": null,
   "metadata": {
    "collapsed": true
   },
   "outputs": [],
   "source": [
    "length = 50\n",
    "\n",
    "vecA = np.random.randn(length)\n",
    "vecB = np.random.randn(2*length)"
   ]
  },
  {
   "cell_type": "markdown",
   "metadata": {},
   "source": [
    "vecA and vecB are numpy *arrays*. One of their attributes can be fetched to check their *shape*"
   ]
  },
  {
   "cell_type": "code",
   "execution_count": null,
   "metadata": {},
   "outputs": [],
   "source": [
    "print(vecA.shape)\n",
    "print(vecB.shape)"
   ]
  },
  {
   "cell_type": "code",
   "execution_count": null,
   "metadata": {},
   "outputs": [],
   "source": [
    "print(vecA)"
   ]
  },
  {
   "cell_type": "markdown",
   "metadata": {},
   "source": [
    "Numpy arrays can be vectors as well as matrices, or any tensor. For example the following code will create tensors with 3 dimensions using the standard normal"
   ]
  },
  {
   "cell_type": "code",
   "execution_count": null,
   "metadata": {},
   "outputs": [],
   "source": [
    "arrayC = np.random.randn(3,500,4)\n",
    "print(arrayC.shape)"
   ]
  },
  {
   "cell_type": "markdown",
   "metadata": {},
   "source": [
    "Note that the random package of Numpy has several other interesting functions. Try to test the two functions proposed in the cell below. \n",
    "\n",
    "Try uncommenting the two functions below one by one, look up their help page, and try to use them. "
   ]
  },
  {
   "cell_type": "code",
   "execution_count": 13,
   "metadata": {
    "collapsed": true
   },
   "outputs": [],
   "source": [
    "### CELL TO BE COMPLETED \n",
    "\n",
    "#np.random.randint\n",
    "#np.random.permutation"
   ]
  },
  {
   "cell_type": "markdown",
   "metadata": {},
   "source": [
    "A very important features of arrays is the fact they can be used as *iterables*. For example, you can iterate over the dimensions of an array by simply \"looping\" over it using a *for* loop"
   ]
  },
  {
   "cell_type": "code",
   "execution_count": null,
   "metadata": {},
   "outputs": [],
   "source": [
    "for curdim in arrayC:\n",
    "    print(curdim.shape)"
   ]
  },
  {
   "cell_type": "markdown",
   "metadata": {},
   "source": [
    "Also possible to enumerate along the dimension in order to get the index of the current \"smaller\" array\n"
   ]
  },
  {
   "cell_type": "code",
   "execution_count": null,
   "metadata": {},
   "outputs": [],
   "source": [
    "print('Initial shape is %d %d %d' % (arrayC.shape[0],arrayC.shape[1],arrayC.shape[2]))\n",
    "print('Iterating over the first dimension using an index k')\n",
    "for k,curdim in enumerate(arrayC):\n",
    "    print('k = %d, shape is %d %d' % (k,curdim.shape[0],curdim.shape[1]))"
   ]
  },
  {
   "cell_type": "markdown",
   "metadata": {},
   "source": [
    "Use the previous principle in order to calculate the average of each 500x4 subvector, using the function np.mean()"
   ]
  },
  {
   "cell_type": "code",
   "execution_count": null,
   "metadata": {},
   "outputs": [],
   "source": [
    "### CELL TO BE COMPLETED \n",
    "\n",
    "\n",
    "for k,curdim in enumerate(arrayC):\n",
    "    print(np.mean(curdim))"
   ]
  },
  {
   "cell_type": "markdown",
   "metadata": {},
   "source": [
    "Check that you obtain the same result when directly computing the average over the two axis 1 and 2 (look up the arguments of np.mean) "
   ]
  },
  {
   "cell_type": "code",
   "execution_count": null,
   "metadata": {},
   "outputs": [],
   "source": [
    "### CELL TO BE COMPLETED \n",
    "\n",
    "np.mean(arrayC,axis = (1,2))"
   ]
  },
  {
   "cell_type": "markdown",
   "metadata": {},
   "source": [
    "These features will prove to be very useful when manipulate large arrays. "
   ]
  },
  {
   "cell_type": "markdown",
   "metadata": {},
   "source": [
    "Another important operation when working with Numpy Arrays is *reshaping*. Essentially, *reshaping* consists in changing the organisation of the array (in terms of dimension), while keeping the same number of elements. For example, a 20x10 2D array can be converted into a 4x5x10 array"
   ]
  },
  {
   "cell_type": "code",
   "execution_count": null,
   "metadata": {},
   "outputs": [],
   "source": [
    "A = np.random.randint(1,5,(10,20))\n",
    "print('Initial shape of A is %d x %d' % (A.shape[0],A.shape[1]))\n",
    "print(A)\n",
    "B = A.reshape((4,5,10))\n",
    "print('B is A reshaped to %d x %d x %d' % (B.shape[0],B.shape[1],B.shape[2]))\n",
    "print(B)"
   ]
  },
  {
   "cell_type": "markdown",
   "metadata": {},
   "source": [
    "Now try implementing the same function $A(k)$ that we implemented in part 1 using numpy.\n",
    "\n",
    "Recall that $A(k) \\triangleq \\sum_{\\mathbf{n} =1}^{k}{n^2}$\n",
    "\n",
    "The following numpy auxiliary functions can help you:\n",
    "   - power: (np.power(base,exponent), example: np.power(2,2) = 4\n",
    "   - arange: (np.arange(last element), example: np.arange(5) = [0,1,2,3,4]\n",
    "   - sum: (np.sum(vector), example: np.sum([0,1,2,3]) = 6"
   ]
  },
  {
   "cell_type": "code",
   "execution_count": null,
   "metadata": {},
   "outputs": [],
   "source": [
    "### CELL TO BE COMPLETED "
   ]
  },
  {
   "cell_type": "markdown",
   "metadata": {
    "collapsed": true
   },
   "source": [
    "One property of numpy that is really important is broadcasting. The goal of broadcasting is to simplify the vectorization of certain operations when the vectors do not have the same shape. For example you can easily perform element-wise multiplication.\n",
    "\n",
    "To test this try doing an element-wise multiplication of the vector x and matrix y below"
   ]
  },
  {
   "cell_type": "code",
   "execution_count": null,
   "metadata": {},
   "outputs": [],
   "source": [
    "x = np.array([2,3])\n",
    "y = np.array([[4,1],[9,10],[12,13]])\n",
    "result = x*y\n",
    "print(\"X: \",x)\n",
    "print(\"Y: \")\n",
    "print(y)\n",
    "print(\"X shape is: \",x.shape)\n",
    "print(\"Y shape is: \",y.shape)\n",
    "print(\"Element-wise multiplication shape:\", result.shape)\n",
    "print(\"Element-wise multiplication result:\")\n",
    "print(result)\n"
   ]
  },
  {
   "cell_type": "markdown",
   "metadata": {},
   "source": [
    "Another very powerful tool in numpy is indexing. You can use either an integer vector or a boolean vector to choose which indexes you want to extract from your numpy tensor.\n",
    "\n",
    "Consider that we want to extract all elements from the first line of your vector y that have a higher value than 1, you would have to do:"
   ]
  },
  {
   "cell_type": "code",
   "execution_count": null,
   "metadata": {},
   "outputs": [],
   "source": [
    "first_row = y[0]\n",
    "first_row_higher_than_one = first_row > 1\n",
    "print(\"Result: \", first_row[first_row_higher_than_one])"
   ]
  },
  {
   "cell_type": "markdown",
   "metadata": {},
   "source": [
    "You can also choose specific lines to query, for example if you want to query lines 0 and 2"
   ]
  },
  {
   "cell_type": "code",
   "execution_count": null,
   "metadata": {},
   "outputs": [],
   "source": [
    "rows = [0,2]\n",
    "rows_result = y[rows]\n",
    "values_higher_than_one = rows_result > 1\n",
    "print(\"Result: \", rows_result[values_higher_than_one])"
   ]
  },
  {
   "cell_type": "markdown",
   "metadata": {},
   "source": [
    "You can also save and load your numpy tensors using np.savez and np.load. This will be really important in the next courses as this enable you to generate your data only once instead of having to do all the calculations every time you need your data."
   ]
  },
  {
   "cell_type": "code",
   "execution_count": null,
   "metadata": {},
   "outputs": [],
   "source": [
    "filename = \"x.npz\"\n",
    "source_tensor = x\n",
    "np.savez(filename,data=source_tensor)"
   ]
  },
  {
   "cell_type": "code",
   "execution_count": null,
   "metadata": {},
   "outputs": [],
   "source": [
    "loaded_npz = np.load(filename)\n",
    "loaded_tensor = loaded_npz[\"data\"]\n",
    "print(\"Your tensor was loaded and contains: \", loaded_tensor)"
   ]
  },
  {
   "cell_type": "markdown",
   "metadata": {},
   "source": [
    "Part 3 - Application to PyRat Datasets\n",
    "--"
   ]
  },
  {
   "cell_type": "markdown",
   "metadata": {
    "collapsed": true
   },
   "source": [
    "One example of application of the saving and loading of tensors is to charge your dataset to your memory. \n",
    "\n",
    "You now have to load the pyrat dataset (\"dataset.npz\"), a dataset generated with the initial state of random games from PyRat. We are giving it to you for TP0, but you will learn how to generate it in TP1. It contains two variables named \"x\" and \"y\". You should store them in variables named x_pyrat and y_pyrat"
   ]
  },
  {
   "cell_type": "code",
   "execution_count": null,
   "metadata": {
    "collapsed": true
   },
   "outputs": [],
   "source": [
    "### CELL TO BE COMPLETED "
   ]
  },
  {
   "cell_type": "markdown",
   "metadata": {},
   "source": [
    "Now with the dataset loaded we can explore it using matplotlib. Matplotlib is a very powerful python graphics display library.\n",
    "\n",
    "We are going to be showing the games initial state and the winner of each match. The games are represented by two variables X and Y.\n",
    "\n",
    "X is a matrix with 1000 examples of length 315. Each example can be resized to the real maze shape of 21 by 15. Each data point of the example vector has two possible values. 1 for presence of cheese and 0 for absence of cheese. \n",
    "\n",
    "Y is a scalar integer that ranges from -1 to 1. 1 represents a win by the python, 0 a draw and -1 a win for the rat.\n",
    "\n",
    "The magic command \"%matplotlib inline\" tells jupyter notebook to display the plot results in the document, instead of opening a separate window."
   ]
  },
  {
   "cell_type": "markdown",
   "metadata": {},
   "source": [
    "Now it is your turn. Reshape the x_pyrat matrix into a tensor of (examples,21,15) and put it into a variable x_labyrinth"
   ]
  },
  {
   "cell_type": "code",
   "execution_count": null,
   "metadata": {
    "collapsed": true
   },
   "outputs": [],
   "source": [
    "### CELL TO BE COMPLETED "
   ]
  },
  {
   "cell_type": "code",
   "execution_count": null,
   "metadata": {
    "collapsed": true
   },
   "outputs": [],
   "source": [
    "import matplotlib.pyplot as plt\n",
    "%matplotlib inline"
   ]
  },
  {
   "cell_type": "code",
   "execution_count": null,
   "metadata": {},
   "outputs": [],
   "source": [
    "afew = 5 # Number of samples\n",
    "fig, axis = plt.subplots(1,afew,figsize=(20,10)) # Generate a new figure with one row of 5 plots. We also set the size 20,10\n",
    "for i in range(afew):\n",
    "    ind = np.random.randint(x_labyrinth.shape[0]) #sample a game\n",
    "    ax = axis[i] # get the corresponding axis to use\n",
    "    img = ax.matshow(x_labyrinth[ind]) #Show the matrix as an image\n",
    "    ax.set_title('Winner : {}'.format(y_pyrat[ind])) # Set the axis title with the game winner\n",
    "fig.colorbar(img,ax=axis) # add a colorbar for each image"
   ]
  },
  {
   "cell_type": "markdown",
   "metadata": {},
   "source": [
    "In the plots above, the cheeses (1) are pictured in yellow, while the empty squares are represented in blue."
   ]
  },
  {
   "cell_type": "markdown",
   "metadata": {},
   "source": [
    "# Final exercise\n",
    "\n",
    "Now with all the knowledge you acquired today you can start doing some really cool analysis. Try getting the mean start of the game for each situation (rat win, draw, python win) and plotting them side by side. \n",
    "\n",
    "If you can't do it don't be discouraged. We will be exploring this in detail in TP2"
   ]
  },
  {
   "cell_type": "code",
   "execution_count": null,
   "metadata": {
    "collapsed": true
   },
   "outputs": [],
   "source": [
    "### CELL TO BE COMPLETED "
   ]
  },
  {
   "cell_type": "code",
   "execution_count": null,
   "metadata": {},
   "outputs": [],
   "source": [
    "### CELL TO BE COMPLETED "
   ]
  }
 ],
 "metadata": {
  "kernelspec": {
   "display_name": "Python [default]",
   "language": "python",
   "name": "python3"
  },
  "language_info": {
   "codemirror_mode": {
    "name": "ipython",
    "version": 3
   },
   "file_extension": ".py",
   "mimetype": "text/x-python",
   "name": "python",
   "nbconvert_exporter": "python",
   "pygments_lexer": "ipython3",
   "version": "3.6.3"
  }
 },
 "nbformat": 4,
 "nbformat_minor": 2
}
